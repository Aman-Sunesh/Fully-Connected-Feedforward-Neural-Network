{
 "cells": [
  {
   "cell_type": "code",
   "execution_count": 1,
   "id": "72eb0f34-8b55-4cd7-baef-d8f3b7514b75",
   "metadata": {},
   "outputs": [],
   "source": [
    "from sklearn.datasets import load_digits #import the dataset\n",
    "import matplotlib.pyplot as plt\n",
    "import numpy as np\n",
    "import pandas as pd\n",
    "from sklearn.model_selection import train_test_split\n",
    "from sklearn.preprocessing import StandardScaler\n",
    "from sklearn.metrics import accuracy_score"
   ]
  },
  {
   "cell_type": "code",
   "execution_count": 2,
   "id": "a30e33b1-a6b2-4585-a127-67f2b27ea52a",
   "metadata": {},
   "outputs": [],
   "source": [
    "digits = load_digits()"
   ]
  },
  {
   "cell_type": "code",
   "execution_count": 3,
   "id": "122f7343-39af-47dc-9345-339bd415062c",
   "metadata": {},
   "outputs": [
    {
     "data": {
      "text/plain": [
       "<Figure size 640x480 with 0 Axes>"
      ]
     },
     "metadata": {},
     "output_type": "display_data"
    },
    {
     "data": {
      "image/png": "[encoded data removed]",
      "text/plain": [
       "<Figure size 480x480 with 1 Axes>"
      ]
     },
     "metadata": {},
     "output_type": "display_data"
    }
   ],
   "source": [
    "plt.gray()\n",
    "plt.matshow(digits.images[0])\n",
    "plt.show()"
   ]
  },
  {
   "cell_type": "code",
   "execution_count": 4,
   "id": "9c6008bc-aa01-4546-b53d-e8aa544538e6",
   "metadata": {},
   "outputs": [
    {
     "name": "stdout",
     "output_type": "stream",
     "text": [
      "Shape of images: (1797, 8, 8)\n",
      "Shape of data: (1797, 64)\n"
     ]
    }
   ],
   "source": [
    "# Print the shapes of images and data\n",
    "print(\"Shape of images:\", digits.images.shape)  \n",
    "print(\"Shape of data:\", digits.data.shape)       "
   ]
  },
  {
   "cell_type": "code",
   "execution_count": 5,
   "id": "4bee2ab0-3279-48fa-a3d2-52b469c14c09",
   "metadata": {},
   "outputs": [],
   "source": [
    "# Initialize the scaler\n",
    "scaler = StandardScaler()"
   ]
  },
  {
   "cell_type": "code",
   "execution_count": 6,
   "id": "d850667e-2058-47b8-92a6-cc6c1db3a345",
   "metadata": {},
   "outputs": [],
   "source": [
    "# Use the flattened data as inputs and the original labels as targets\n",
    "inputs = digits.data\n",
    "targets = digits.target"
   ]
  },
  {
   "cell_type": "code",
   "execution_count": 7,
   "id": "55024985-ffff-4476-9b2a-4a8f3f499a66",
   "metadata": {},
   "outputs": [],
   "source": [
    "inputs = scaler.fit_transform(inputs) "
   ]
  },
  {
   "cell_type": "code",
   "execution_count": 8,
   "id": "5e432897-025c-4780-8727-c1ac5cf8639a",
   "metadata": {},
   "outputs": [],
   "source": [
    "# One-hot encode the targets by creating a new array\n",
    "onehot_targets = np.zeros((targets.shape[0], 10))\n",
    "\n",
    "for i in range(targets.shape[0]):\n",
    "    onehot_targets[i, targets[i]] = 1\n"
   ]
  },
  {
   "cell_type": "code",
   "execution_count": 9,
   "id": "f2b397fb-1392-4fd1-84fb-91c0f691e2d8",
   "metadata": {},
   "outputs": [
    {
     "data": {
      "text/plain": [
       "array([[1., 0., 0., ..., 0., 0., 0.],\n",
       "       [0., 1., 0., ..., 0., 0., 0.],\n",
       "       [0., 0., 1., ..., 0., 0., 0.],\n",
       "       ...,\n",
       "       [0., 0., 0., ..., 0., 1., 0.],\n",
       "       [0., 0., 0., ..., 0., 0., 1.],\n",
       "       [0., 0., 0., ..., 0., 1., 0.]])"
      ]
     },
     "execution_count": 9,
     "metadata": {},
     "output_type": "execute_result"
    }
   ],
   "source": [
    "onehot_targets"
   ]
  },
  {
   "cell_type": "code",
   "execution_count": 10,
   "id": "7ef9c780-da71-4091-bbe4-abfd5b815f2f",
   "metadata": {},
   "outputs": [],
   "source": [
    "# Split the dataset into training and testing sets (80% train, 20% test).\n",
    "X_train, X_test, y_train, y_test = train_test_split(inputs, onehot_targets, test_size = 0.2, random_state = 42)"
   ]
  },
  {
   "cell_type": "markdown",
   "id": "1abdaa9f-5695-46bb-872a-72c6afa6e77f",
   "metadata": {},
   "source": []
  },
  {
   "cell_type": "code",
   "execution_count": 11,
   "id": "a7b734a7-8d37-410d-a7f5-441c0db3e6e6",
   "metadata": {},
   "outputs": [],
   "source": [
    "class NeuralNetwork:\n",
    "    def __init__(self, input_size = 64, hidden_size = 30, output_size = 10, learning_rate = 0.01, epochs = 1000):\n",
    "        # Hyperparameters\n",
    "        self.learning_rate = learning_rate\n",
    "        self.epochs = epochs\n",
    "        \n",
    "        # Weights & bias initialization with small random values\n",
    "        self.W1 = np.random.randn(input_size, hidden_size) * 0.01  \n",
    "        self.b1 = np.zeros((1, hidden_size))                       \n",
    "        self.W2 = np.random.randn(hidden_size, output_size) * 0.01 \n",
    "        self.b2 = np.zeros((1, output_size))                       #\n",
    "\n",
    "    def sigmoid(self, x):\n",
    "        return 1 / (1 + np.exp(-x))\n",
    "\n",
    "    def sigmoid_deriv(self, x):\n",
    "        return self.sigmoid(x) * (1 - self.sigmoid(x))\n",
    "\n",
    "    def ReLU(self, x):\n",
    "        return np.maximum(0, x)\n",
    "\n",
    "    def ReLU_deriv(self, x):\n",
    "        return np.where(x > 0, 1, 0)\n",
    "\n",
    "    def tanh(self, x):\n",
    "        return np.tanh(x)\n",
    "\n",
    "    def tanh_deriv(self, x):\n",
    "        return 1 - (self.tanh(x))**2\n",
    "\n",
    "    def forward_propagation(self, x, activation):\n",
    "        # Hidden layer\n",
    "        z1 = x @ self.W1 + self.b1\n",
    "        a1 = activation(z1)\n",
    "    \n",
    "        # Output layer\n",
    "        z2 = a1 @ self.W2 + self.b2\n",
    "        a2 = activation(z2)\n",
    "    \n",
    "        return z1, a1, z2, a2\n",
    "\n",
    "    def compute_cost(self, y_pred, y_true):\n",
    "        cost = np.mean((y_pred - y_true) ** 2)\n",
    "        return cost\n",
    "\n",
    "    def back_propagation(self, x, y, activation, activation_derivative):       \n",
    "        m = y.shape[0]\n",
    "        \n",
    "        z1, a1, z2, a2 = self.forward_propagation(x, activation)\n",
    "        \n",
    "        error2 = 2 * (a2 - y) * activation_derivative(z2)\n",
    "        grad_W2 = (a1.T @ error2) / m\n",
    "        grad_b2 = np.sum(error2, axis = 0, keepdims = True) / m\n",
    "\n",
    "        error1 = (error2 @ self.W2.T) * activation_derivative(z1)\n",
    "        grad_W1 = (x.T @ error1) / m\n",
    "        grad_b1 = np.sum(error1, axis = 0, keepdims = True) / m\n",
    "\n",
    "        return grad_W1, grad_b1, grad_W2, grad_b2\n",
    "\n",
    "    def update_parameters(self, grad_W1, grad_b1, grad_W2, grad_b2):\n",
    "        self.W2 = self.W2 - (self.learning_rate * grad_W2)\n",
    "        self.b2 = self.b2 - (self.learning_rate * grad_b2)\n",
    "        self.W1 = self.W1 - (self.learning_rate * grad_W1)\n",
    "        self.b1 = self.b1 - (self.learning_rate * grad_b1)\n",
    "\n",
    "\n",
    "    def train(self, x, y, activation, activation_derivative):\n",
    "        for epoch in range(self.epochs):\n",
    "            z1, a1, z2, a2 = self.forward_propagation(x, activation)\n",
    "            grad_W1, grad_b1, grad_W2, grad_b2 = self.back_propagation(x, y, activation, activation_derivative)\n",
    "            self.update_parameters(grad_W1, grad_b1, grad_W2, grad_b2)\n",
    "\n",
    "            if (epoch%100 == 0):\n",
    "                cost = self.compute_cost(a2, y)\n",
    "                print(f\"Epoch {epoch}, Cost: {cost}\")\n",
    "\n",
    "    def predict(self, x, activation):\n",
    "        _ , _ , _ , a2 = self.forward_propagation(x, activation)\n",
    "        predictions = np.argmax(a2, axis = 1)\n",
    "        return predictions\n",
    "\n",
    "    def accuracy_score(self, y_true, y_pred):\n",
    "        return accuracy_score(y_true, y_pred)"
   ]
  },
  {
   "cell_type": "markdown",
   "id": "8f872f9b-ab03-422c-b57f-3d690737281a",
   "metadata": {},
   "source": []
  },
  {
   "cell_type": "code",
   "execution_count": 12,
   "id": "52c51d5d-5f25-4afe-97fd-52b51d854ede",
   "metadata": {},
   "outputs": [
    {
     "name": "stdout",
     "output_type": "stream",
     "text": [
      "Epoch 0, Cost: 0.25246469528904264\n",
      "Epoch 100, Cost: 0.11795191411078527\n",
      "Epoch 200, Cost: 0.09953016127401482\n",
      "Epoch 300, Cost: 0.09438968044481354\n",
      "Epoch 400, Cost: 0.09234192722331548\n",
      "Epoch 500, Cost: 0.09135721034407938\n",
      "Epoch 600, Cost: 0.09082623119651938\n",
      "Epoch 700, Cost: 0.09051711570817286\n",
      "Epoch 800, Cost: 0.09032698537276566\n",
      "Epoch 900, Cost: 0.09020503733770992\n",
      "Sigmoid Test Accuracy: 0.07777777777777778\n"
     ]
    }
   ],
   "source": [
    "# Neural Network with Sigmoid activation\n",
    "\n",
    "net_sigmoid = NeuralNetwork(learning_rate = 0.01, epochs = 1000)\n",
    "net_sigmoid.train(X_train, y_train, activation = net_sigmoid.sigmoid, activation_derivative = net_sigmoid.sigmoid_deriv)\n",
    "y_test_labels = np.argmax(y_test, axis=1)\n",
    "predictions = net_sigmoid.predict(X_test, activation = net_sigmoid.sigmoid)\n",
    "acc_sigmoid = net_sigmoid.accuracy_score(y_test_labels, predictions)\n",
    "print(\"Sigmoid Test Accuracy:\", acc_sigmoid)"
   ]
  },
  {
   "cell_type": "code",
   "execution_count": 13,
   "id": "280226c4-d366-4de1-b309-3ee9af8bc694",
   "metadata": {},
   "outputs": [
    {
     "name": "stdout",
     "output_type": "stream",
     "text": [
      "Epoch 0, Cost: 0.09987543220111288\n",
      "Epoch 100, Cost: 0.08980117954260194\n",
      "Epoch 200, Cost: 0.08482147860847465\n",
      "Epoch 300, Cost: 0.0726795093463526\n",
      "Epoch 400, Cost: 0.05836017184214729\n",
      "Epoch 500, Cost: 0.04710174290837462\n",
      "Epoch 600, Cost: 0.03896260779355353\n",
      "Epoch 700, Cost: 0.03341575706917951\n",
      "Epoch 800, Cost: 0.02957894470453575\n",
      "Epoch 900, Cost: 0.026802076561861357\n",
      "ReLU Test Accuracy: 0.8472222222222222\n"
     ]
    }
   ],
   "source": [
    "# Neural Network with ReLU activation\n",
    "\n",
    "net_ReLU = NeuralNetwork(learning_rate = 0.01, epochs = 1000)\n",
    "net_ReLU.train(X_train, y_train, activation = net_ReLU.ReLU, activation_derivative = net_ReLU.ReLU_deriv)\n",
    "y_test_labels = np.argmax(y_test, axis=1)\n",
    "predictions = net_ReLU.predict(X_test, activation = net_ReLU.ReLU)\n",
    "acc_ReLU = net_ReLU.accuracy_score(y_test_labels, predictions)\n",
    "print(\"ReLU Test Accuracy:\", acc_ReLU)"
   ]
  },
  {
   "cell_type": "code",
   "execution_count": 14,
   "id": "f2ad47ee-613c-4877-82b1-494326a4631c",
   "metadata": {},
   "outputs": [
    {
     "name": "stdout",
     "output_type": "stream",
     "text": [
      "Epoch 0, Cost: 0.10004436119003264\n",
      "Epoch 100, Cost: 0.08347722805858385\n",
      "Epoch 200, Cost: 0.06822620984669812\n",
      "Epoch 300, Cost: 0.05909022005640055\n",
      "Epoch 400, Cost: 0.052150125120507505\n",
      "Epoch 500, Cost: 0.04688084601004273\n",
      "Epoch 600, Cost: 0.043251061146146685\n",
      "Epoch 700, Cost: 0.040827709262167826\n",
      "Epoch 800, Cost: 0.039233078560271764\n",
      "Epoch 900, Cost: 0.03816494210618945\n",
      "tanh Test Accuracy: 0.9444444444444444\n"
     ]
    }
   ],
   "source": [
    "# Neural Network with tanh activation\n",
    "\n",
    "net_tanh = NeuralNetwork(learning_rate = 0.01, epochs = 1000)\n",
    "net_tanh.train(X_train, y_train, activation = net_tanh.tanh, activation_derivative = net_tanh.tanh_deriv)\n",
    "y_test_labels = np.argmax(y_test, axis=1)\n",
    "predictions = net_tanh.predict(X_test, activation = net_tanh.tanh)\n",
    "acc_tanh = net_tanh.accuracy_score(y_test_labels, predictions)\n",
    "print(\"tanh Test Accuracy:\", acc_tanh)"
   ]
  },
  {
   "cell_type": "markdown",
   "id": "e7aca8eb-819c-4aff-b6b0-5c2d220d55af",
   "metadata": {},
   "source": [
    "# Experimenting with Different Hyperparameters"
   ]
  },
  {
   "cell_type": "code",
   "execution_count": null,
   "id": "d0e5e401-8a14-494f-bb0e-80835051dd4f",
   "metadata": {},
   "outputs": [],
   "source": []
  }
 ],
 "metadata": {
  "kernelspec": {
   "display_name": "Python 3 (ipykernel)",
   "language": "python",
   "name": "python3"
  },
  "language_info": {
   "codemirror_mode": {
    "name": "ipython",
    "version": 3
   },
   "file_extension": ".py",
   "mimetype": "text/x-python",
   "name": "python",
   "nbconvert_exporter": "python",
   "pygments_lexer": "ipython3",
   "version": "3.12.2"
  }
 },
 "nbformat": 4,
 "nbformat_minor": 5
}
